{
 "cells": [
  {
   "cell_type": "markdown",
   "metadata": {
    "id": "ba7_lTVbCTsP"
   },
   "source": [
    "## 1. **Encrypt the given plaintext in Q1**  \n",
    "\n",
    "**Key:** `your roll number` + \"Cryptography\"  "
   ]
  },
  {
   "cell_type": "code",
   "execution_count": 1,
   "metadata": {
    "id": "oVaaGMVpe2X6"
   },
   "outputs": [],
   "source": [
    "# declear a XOR function for XORing the strings \n",
    "def strXOR(s1,s2):\n",
    "    if len(s1)!=len(s2):\n",
    "        return False\n",
    "    XORed=''\n",
    "    for i,j in zip(s1,s2):\n",
    "        XORed+=chr(ord(i)^ord(j))\n",
    "    return XORed"
   ]
  },
  {
   "cell_type": "code",
   "execution_count": 4,
   "metadata": {
    "id": "C4HK_Xt-Cl3B"
   },
   "outputs": [],
   "source": [
    "## selected message and set the key\n",
    "msg = \"A cat is not a dog\" \n",
    "\n",
    "rollNum = '221060' \n",
    "ke =  'Cryptography'\n"
   ]
  },
  {
   "cell_type": "code",
   "execution_count": 5,
   "metadata": {
    "colab": {
     "base_uri": "https://localhost:8080/"
    },
    "id": "qtk77duIYTp5",
    "outputId": "65f305cc-208c-40e7-c615-0e03c236b3bd"
   },
   "outputs": [
    {
     "name": "stdout",
     "output_type": "stream",
     "text": [
      "message: A cat is not a dog\n",
      "Key: 221060Cryptography\n"
     ]
    }
   ],
   "source": [
    "## choosing message and a key\n",
    "message = msg # lenght 6\n",
    "key = rollNum+ke     # your roll number\n",
    "print(f'message: {message}\\nKey: {key}')"
   ]
  },
  {
   "cell_type": "markdown",
   "metadata": {
    "id": "zdLnlUakebqP"
   },
   "source": [
    "---"
   ]
  },
  {
   "cell_type": "code",
   "execution_count": 6,
   "metadata": {
    "id": "Js_L1ClcMxA6"
   },
   "outputs": [],
   "source": [
    "## encryption function\n",
    "def encryptVernam(data, key):\n",
    "    ciphertext=''\n",
    "    if len(data) != len(key):\n",
    "        ## handel error\n",
    "        raise Exception('Length of key is not the same as ciphertext')\n",
    "    else:\n",
    "        ## operation for Vernam Cipher\n",
    "        cipherText=strXOR(data,key)\n",
    "  # returning\n",
    "    return cipherText"
   ]
  },
  {
   "cell_type": "code",
   "execution_count": 7,
   "metadata": {
    "id": "gRuUmy5hW7zJ"
   },
   "outputs": [],
   "source": [
    "## decryption function\n",
    "def decryptVernam(ciphertext, key):\n",
    "    ## apply accordingto the previous task\n",
    "    plainText=''\n",
    "    if len(ciphertext)!=len(key):\n",
    "        raise Exception('Length of key is not the same as ciphertext')\n",
    "    else:\n",
    "        plainText=strXOR(ciphertext,key)\n",
    "    return plainText"
   ]
  },
  {
   "cell_type": "code",
   "execution_count": 8,
   "metadata": {
    "colab": {
     "base_uri": "https://localhost:8080/",
     "height": 35
    },
    "id": "3cD6tBB4Y83w",
    "outputId": "96a765fc-a0b8-41f8-d5d3-9633a2335744"
   },
   "outputs": [
    {
     "data": {
      "text/plain": [
       "\"c=''\\nfor i in range(18):\\n    c+=chr(ord(ct[i])^ord(key[i]))\\n    \\nprint(c)\\nprint(decryptVernam(ct,key))\""
      ]
     },
     "execution_count": 8,
     "metadata": {},
     "output_type": "execute_result"
    }
   ],
   "source": [
    "## encrypting and decrypting\n",
    "ct = encryptVernam(message,key)\n",
    "pt = decryptVernam(ct,key)\n",
    "'''c=''\n",
    "for i in range(18):\n",
    "    c+=chr(ord(ct[i])^ord(key[i]))\n",
    "    \n",
    "print(c)\n",
    "print(decryptVernam(ct,key))'''"
   ]
  },
  {
   "cell_type": "code",
   "execution_count": 9,
   "metadata": {
    "colab": {
     "base_uri": "https://localhost:8080/"
    },
    "id": "i1lPU4VGaWcT",
    "outputId": "35a89bba-d9cb-4631-cfeb-e9378adeb003"
   },
   "outputs": [
    {
     "name": "stdout",
     "output_type": "stream",
     "text": [
      "Original message: A cat is not a dog\n",
      "Key: 221060Cryptography\n",
      "\n",
      "Generated ciphertext (in hex): s\u0012RQB\u0010*\u0001Y\u001e",
      "\u001b\u001bG\u0013A\u0014\u0007\u001e",
      "\n",
      "Retrived plaintext: A cat is not a dog\n"
     ]
    }
   ],
   "source": [
    "print(\"\"\"Original message: {}\n",
    "Key: {}\\n\n",
    "Generated ciphertext (in hex): {}\n",
    "Retrived plaintext: {}\"\"\".format(message,key,ct,pt))\n"
   ]
  },
  {
   "cell_type": "markdown",
   "metadata": {
    "id": "gzUuWExB32NY"
   },
   "source": [
    "## 2. Define a function LinearCongruentialGenerator() to generate Pseudo-Random Numbers (PRNs) with the following properties:\n",
    "Seed value (X0): `Your Roll Number`  \n",
    "Generate 3 random numbers using `LinearCongruentialGenerator()`"
   ]
  },
  {
   "cell_type": "code",
   "execution_count": 10,
   "metadata": {
    "id": "NNZFL99uKR2Q"
   },
   "outputs": [],
   "source": [
    "######### LCG PRN generator\n",
    "def LinearCongruentialGenerator(seed, a, b, m, n): # it must take 5 inputs as per the formula/algo\n",
    "  ## apply the algo\n",
    "  Xn,temp=[seed],0\n",
    "  for i in range(1,n+1):\n",
    "    Xn.append((a*Xn[i-1]+b)%m)\n",
    "  return Xn[1:]"
   ]
  },
  {
   "cell_type": "code",
   "execution_count": 11,
   "metadata": {
    "colab": {
     "base_uri": "https://localhost:8080/"
    },
    "id": "_gS43zhdDBdG",
    "outputId": "c479f26b-ba38-4e35-a73c-8a35f05622cd"
   },
   "outputs": [
    {
     "name": "stdout",
     "output_type": "stream",
     "text": [
      "the following were the values of the parameters:\n",
      "seed: 221070\n",
      "a: 4\n",
      "b: 8\n",
      "m: 10000\n",
      "n: 3\n",
      "PRN: [4288, 7160, 8648]\n"
     ]
    }
   ],
   "source": [
    "# set the 5 parameters \n",
    "# HERE\n",
    "seed,a,b,m,n=221070,4,8,10000,3\n",
    "# test your random number generator\n",
    "PRN=LinearCongruentialGenerator(seed, a, b, m, n) # pass parameters and generate numbers\n",
    "print(f'the following were the values of the parameters:\\nseed: {seed}\\na: {a}\\nb: {b}\\nm: {m}\\nn: {n}\\nPRN: {PRN}')"
   ]
  },
  {
   "cell_type": "markdown",
   "metadata": {
    "id": "RZ40UsXASYp0"
   },
   "source": [
    "# Part-2"
   ]
  },
  {
   "cell_type": "markdown",
   "metadata": {
    "id": "JYRpY0waSePW"
   },
   "source": [
    "## 1. Define a Caesar Cipher for English alphabets (UPPER CASE only) and:\n",
    "encrypt <YOUR FIRST NAME> using any desired key/shift value > 3\n",
    "decrypt the generated ciphertext"
   ]
  },
  {
   "cell_type": "code",
   "execution_count": 14,
   "metadata": {
    "id": "OqllbZzGSaVx"
   },
   "outputs": [],
   "source": [
    "key='F' #input('enter an alphabet')\n",
    "\n",
    "def enc_julius(msg,key):\n",
    "  msg=msg.upper()\n",
    "  key=key.upper()\n",
    "  key=ord(key)-65\n",
    "  cipher=''\n",
    "  for i in msg:\n",
    "    cipher+=chr((ord(i)+key-65)%26+65)\n",
    "  return cipher\n",
    "\n",
    "def dec_julius(cipher,key):\n",
    "  cipher=cipher.upper()\n",
    "  key=key.upper()\n",
    "  key=ord(key)-65\n",
    "  msg=''\n",
    "  for i in cipher:\n",
    "    msg+=chr((ord(i)-key-65)%26+65)\n",
    "  return msg\n",
    "# dec_julius(enc_julius('this','d'),'d')\n",
    "msg='hello'\n",
    "key='g'\n",
    "ct=enc_julius(msg,key)\n",
    "pt=dec_julius(ct,key)"
   ]
  },
  {
   "cell_type": "code",
   "execution_count": 15,
   "metadata": {
    "colab": {
     "base_uri": "https://localhost:8080/"
    },
    "id": "nX7hRfFDUjOk",
    "outputId": "0e181519-c739-4463-c018-68d7f7cf783a"
   },
   "outputs": [
    {
     "name": "stdout",
     "output_type": "stream",
     "text": [
      "Original message: hello\n",
      "Key: g\n",
      "\n",
      "Generated ciphertext (in hex): NKRRU\n",
      "Retrived plaintext: HELLO\n"
     ]
    }
   ],
   "source": [
    "print(\"\"\"Original message: {}\n",
    "Key: {}\\n\n",
    "Generated ciphertext (in hex): {}\n",
    "Retrived plaintext: {}\"\"\".format(msg,key,ct,pt))\n"
   ]
  },
  {
   "cell_type": "code",
   "execution_count": null,
   "metadata": {},
   "outputs": [],
   "source": []
  }
 ],
 "metadata": {
  "colab": {
   "provenance": []
  },
  "kernelspec": {
   "display_name": "Python 3",
   "language": "python",
   "name": "python3"
  },
  "language_info": {
   "codemirror_mode": {
    "name": "ipython",
    "version": 3
   },
   "file_extension": ".py",
   "mimetype": "text/x-python",
   "name": "python",
   "nbconvert_exporter": "python",
   "pygments_lexer": "ipython3",
   "version": "3.8.8"
  }
 },
 "nbformat": 4,
 "nbformat_minor": 1
}
