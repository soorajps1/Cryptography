{
  "nbformat": 4,
  "nbformat_minor": 0,
  "metadata": {
    "colab": {
      "provenance": []
    },
    "kernelspec": {
      "name": "python3",
      "display_name": "Python 3"
    },
    "language_info": {
      "name": "python"
    }
  },
  "cells": [
    {
      "cell_type": "code",
      "execution_count": null,
      "metadata": {
        "colab": {
          "base_uri": "https://localhost:8080/"
        },
        "id": "iIcw2HsYnGMI",
        "outputId": "9367514f-0a2d-45b6-d8e9-c4acf6be91a1"
      },
      "outputs": [
        {
          "output_type": "stream",
          "name": "stdout",
          "text": [
            "enter the rollnumber :45\n",
            "AND 36\n",
            "OR 63\n",
            "XOR 27\n"
          ]
        }
      ],
      "source": [
        "#1\n",
        "def student(roll):\n",
        "  temp=0\n",
        "  while roll:\n",
        "    num=roll%10\n",
        "    temp=temp*10+num\n",
        "    roll=roll//10\n",
        "  return temp\n",
        "  \n",
        "def display(roll,temp):\n",
        "  print(\"AND\",roll&temp)\n",
        "  print(\"OR\",roll|temp)\n",
        "  print(\"XOR\",roll^temp)\n",
        "\n",
        "roll=int(input(\"enter the rollnumber :\"))\n",
        "p=student(roll)\n",
        "display(roll,p)\n",
        "\n",
        "\n",
        "\n",
        "\n",
        "\n",
        "  \n"
      ]
    },
    {
      "cell_type": "code",
      "source": [
        "#2a\n",
        "def cipher():\n",
        "  key=int(input(\"enter your key :\"))\n",
        "  ct=text^key\n",
        "  print(\"cipher\",ct)\n",
        "  return ct\n",
        "\n",
        "def decypher():\n",
        "  ct=cipher()\n",
        "  key =int(input(\"enter key:\"))\n",
        "  text=ct^key\n",
        "  print(\"Decyphered text\",text)\n",
        "  return text\n",
        "\n",
        "text=int(input(\"enter you text\"))\n",
        "decypher()\n",
        "\n",
        "\n",
        "\n",
        "  \n"
      ],
      "metadata": {
        "id": "yEUX4mXQsFWN",
        "colab": {
          "base_uri": "https://localhost:8080/"
        },
        "outputId": "ffdd0f5a-8292-4b53-d2e4-5efda284df3c"
      },
      "execution_count": 4,
      "outputs": [
        {
          "output_type": "stream",
          "name": "stdout",
          "text": [
            "enter you text1234\n",
            "enter your key :3214\n",
            "cipher 2140\n",
            "enter key:3214\n",
            "Decyphered text 1234\n"
          ]
        },
        {
          "output_type": "execute_result",
          "data": {
            "text/plain": [
              "1234"
            ]
          },
          "metadata": {},
          "execution_count": 4
        }
      ]
    },
    {
      "cell_type": "code",
      "source": [
        "#2b\n",
        "def shift():\n",
        "  roll = int(input(\"Enter roll :\"))\n",
        "  string = input(\"Enter string :\")\n",
        "  \n",
        "  sum = 0\n",
        "  while roll:\n",
        "    temp = roll%10\n",
        "    roll = roll // 10\n",
        "    sum = sum + temp\n",
        "\n",
        "  temp = 0\n",
        "  while sum > 9:\n",
        "    while sum  :\n",
        "        temp = temp+sum %10\n",
        "        sum = sum // 10\n",
        "    sum = temp\n",
        "    temp = 0\n",
        "  cipher = ''\n",
        "  \n",
        "  for x in string:\n",
        "    x = x.capitalize()\n",
        "    val = ord(x)+sum\n",
        "    if val>90 :\n",
        "      val = (val-90)%26\n",
        "      val = val + 64\n",
        "    cipher = cipher + chr(val)\n",
        "  print(\"Ciphert text is : \",cipher)\n",
        "\n",
        "\n",
        "shift()"
      ],
      "metadata": {
        "id": "YRlsdzCIPlI6",
        "colab": {
          "base_uri": "https://localhost:8080/"
        },
        "outputId": "f1a7d183-12e2-4390-d324-49730aa49780"
      },
      "execution_count": 6,
      "outputs": [
        {
          "output_type": "stream",
          "name": "stdout",
          "text": [
            "Enter roll :1234\n",
            "Enter string :sooraj\n",
            "Ciphert text is :  TPPSBK\n"
          ]
        }
      ]
    }
  ]
}